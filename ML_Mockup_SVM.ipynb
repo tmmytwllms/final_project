{
  "nbformat": 4,
  "nbformat_minor": 0,
  "metadata": {
    "colab": {
      "name": "ML_Mockup_SVM.ipynb",
      "provenance": []
    },
    "kernelspec": {
      "name": "python3",
      "display_name": "Python 3"
    },
    "language_info": {
      "name": "python"
    }
  },
  "cells": [
    {
      "cell_type": "markdown",
      "metadata": {
        "id": "x-MJ83mZwEJQ"
      },
      "source": [
        "## **Project Overview**\n",
        "\n",
        "The targeted goal of this analysis is to predict departure delays based on various features. \n",
        "This will provide insights on how likely your next flight would be delayed based on if certain conditions are being met, such as the weather or the time of your travel to name a few. \n",
        "\n",
        "**Target:**\n",
        "\n",
        "-  Delay (over 15 minutes)\n",
        "\n",
        "**Features:**\n",
        "- Month\n",
        "- Age of Departing Aircraft\n",
        "- Departure Block (time of day)\n",
        "- Carrier Name\n",
        "- Max Temp\n",
        "- Wind Speed\n",
        "- Snowfall\n",
        "- Precipitation\n",
        "- Departing Airport\n",
        "- Airport Flights\n",
        "\n",
        "\n",
        "**Models:**\n",
        "- Linear Regression\n",
        "- Support vector machine (SVM)\n",
        "\n",
        "**Dataset used:**\n",
        "[2019 Airline Delays w/ Weather and Airport Detail](https://www.kaggle.com/threnjen/2019-airline-delays-and-cancellations)\n",
        "\n",
        "**SVM Explanation:**\n",
        "\n",
        "A Support Vector Machine model is similar to a logistic regression model in that is also a binary classifier, it splits the sample in to two categories; in our data set the two categories being Delayed or Not Delayed. While SVM seeks to split our dataset into two categories, it does not do so as rigorously as a linear regression model. SMV allows for \"soft\" margins and has logic implemented which accounts for outliers and may make exceptions for them. This means some data points past the \"cut off\" line/point may still be sorted into the opposite classification.  \n",
        "\n",
        "\n",
        "\n",
        "\n",
        "\n",
        "\n"
      ]
    },
    {
      "cell_type": "code",
      "metadata": {
        "id": "WW_Orxblng5P"
      },
      "source": [
        "# SMV Machine Learning Mockup\n",
        "\n",
        "# Note: Work is mainly conducted on Google Colab, the file uploaded to Github is for instructor/public access. \n",
        "\n",
        "# Importing Dependencies \n",
        "import warnings\n",
        "warnings.filterwarnings('ignore')\n",
        "import numpy as np\n",
        "import pandas as pd\n",
        "from pathlib import Path\n",
        "from collections import Counter\n",
        "\n",
        "from sklearn.metrics import balanced_accuracy_score\n",
        "from sklearn.metrics import confusion_matrix\n",
        "from imblearn.metrics import classification_report_imbalanced\n",
        "from sklearn.model_selection import train_test_split\n",
        "from sklearn.svm import SVC\n",
        "from sklearn.metrics import classification_report\n",
        "from sklearn.metrics import accuracy_score\n"
      ],
      "execution_count": 2,
      "outputs": []
    },
    {
      "cell_type": "code",
      "metadata": {
        "id": "xHciwndhsJYZ"
      },
      "source": [
        "# Loading in the data\n",
        "# Note depending on how the DB team handles the Data & table structure some of the code in the following two blocks may change. \n",
        "data = Path('TO_BE_DECIDED')\n",
        "df = pd.read_csv(data)\n",
        "df.head()"
      ],
      "execution_count": null,
      "outputs": []
    },
    {
      "cell_type": "code",
      "metadata": {
        "id": "ibhT0t79sb6o"
      },
      "source": [
        "# Segmenting the features from the target\n",
        "y = df[\"DEP_DEL15\"]\n",
        "X = df.drop(columns=\"DEP_DEL15\")"
      ],
      "execution_count": null,
      "outputs": []
    },
    {
      "cell_type": "code",
      "metadata": {
        "id": "EJ4VZB2wsnit"
      },
      "source": [
        "# Utilizing train_test_split function to create training and testing subsets\n",
        "X_train, X_test, y_train, y_test = train_test_split(X, \n",
        "                                                    y, \n",
        "                                                    random_state=1, \n",
        "                                                    stratify=y)\n",
        "X_train.shape"
      ],
      "execution_count": null,
      "outputs": []
    },
    {
      "cell_type": "code",
      "metadata": {
        "id": "EpX1IlQ4tJBB"
      },
      "source": [
        "# Instantiate a linear SVM model\n",
        "model = SVC(kernel='linear')"
      ],
      "execution_count": null,
      "outputs": []
    },
    {
      "cell_type": "code",
      "metadata": {
        "id": "j91lp7wCuBTQ"
      },
      "source": [
        "# Fiting the data\n",
        "model.fit(X_train, y_train)"
      ],
      "execution_count": null,
      "outputs": []
    },
    {
      "cell_type": "markdown",
      "metadata": {
        "id": "8_ii1U08uGRi"
      },
      "source": [
        "The following section will score the model utilizing test data and then go on to make a prediction. \n"
      ]
    },
    {
      "cell_type": "code",
      "metadata": {
        "id": "LvPLSLNvuOwK"
      },
      "source": [
        "# Making predictions using the test data\n",
        "y_pred = model.predict(X_test)\n",
        "results = pd.DataFrame({\n",
        "    \"Prediction\": y_pred, \n",
        "    \"Actual\": y_test\n",
        "}).reset_index(drop=True)\n",
        "results.head()"
      ],
      "execution_count": null,
      "outputs": []
    },
    {
      "cell_type": "code",
      "metadata": {
        "id": "oWux3jvOugEA"
      },
      "source": [
        "# Generating an accuracy score \n",
        "accuracy_score(y_test, y_pred)\n"
      ],
      "execution_count": null,
      "outputs": []
    },
    {
      "cell_type": "code",
      "metadata": {
        "id": "RQW-0j5ruhil"
      },
      "source": [
        "# Generating a Confusion Matrix \n",
        "confusion_matrix(y_test, y_pred)"
      ],
      "execution_count": null,
      "outputs": []
    },
    {
      "cell_type": "code",
      "metadata": {
        "id": "Fl1qvfGeuj5i"
      },
      "source": [
        "# Generating a Classification Report\n",
        "print(classification_report(y_test, y_pred))\n"
      ],
      "execution_count": null,
      "outputs": []
    }
  ]
}