{
  "nbformat": 4,
  "nbformat_minor": 2,
  "metadata": {
    "colab": {
      "name": "ML_mockup.ipynb",
      "provenance": []
    },
    "kernelspec": {
      "name": "python3",
      "display_name": "Python 3.7.10 64-bit ('mlenv': conda)"
    },
    "language_info": {
      "name": "python",
      "version": "3.7.10",
      "mimetype": "text/x-python",
      "codemirror_mode": {
        "name": "ipython",
        "version": 3
      },
      "pygments_lexer": "ipython3",
      "nbconvert_exporter": "python",
      "file_extension": ".py"
    },
    "interpreter": {
      "hash": "363e5471b3e140f854a51df1fe6f89da72fe09ccaf34c3a98ea487d83ddf264e"
    }
  },
  "cells": [
    {
      "cell_type": "code",
      "execution_count": 2,
      "source": [
        "# Import libraries\r\n",
        "import matplotlib.pyplot as plt\r\n",
        "import pandas as pd\r\n",
        "from sklearn.linear_model import LogisticRegression\r\n",
        "from sklearn.model_selection import train_test_split\r\n",
        "from sklearn.metrics import classification_report, accuracy_score\r\n",
        "from sklearn.preprocessing import LabelEncoder"
      ],
      "outputs": [],
      "metadata": {
        "id": "7dgrrS9VfEM6"
      }
    },
    {
      "cell_type": "code",
      "execution_count": 6,
      "source": [
        "# Read in data from database\r\n",
        "file = \"Resources/airports_list.csv\"\r\n",
        "airports_df = pd.read_csv(file, index_col=0)\r\n",
        "airports_df.head()"
      ],
      "outputs": [
        {
          "output_type": "execute_result",
          "data": {
            "text/html": [
              "<div>\n",
              "<style scoped>\n",
              "    .dataframe tbody tr th:only-of-type {\n",
              "        vertical-align: middle;\n",
              "    }\n",
              "\n",
              "    .dataframe tbody tr th {\n",
              "        vertical-align: top;\n",
              "    }\n",
              "\n",
              "    .dataframe thead th {\n",
              "        text-align: right;\n",
              "    }\n",
              "</style>\n",
              "<table border=\"1\" class=\"dataframe\">\n",
              "  <thead>\n",
              "    <tr style=\"text-align: right;\">\n",
              "      <th></th>\n",
              "      <th>DISPLAY_AIRPORT_NAME</th>\n",
              "      <th>ORIGIN_CITY_NAME</th>\n",
              "      <th>NAME</th>\n",
              "    </tr>\n",
              "    <tr>\n",
              "      <th>ORIGIN_AIRPORT_ID</th>\n",
              "      <th></th>\n",
              "      <th></th>\n",
              "      <th></th>\n",
              "    </tr>\n",
              "  </thead>\n",
              "  <tbody>\n",
              "    <tr>\n",
              "      <th>12992</th>\n",
              "      <td>Adams Field</td>\n",
              "      <td>Little Rock, AR</td>\n",
              "      <td>NORTH LITTLE ROCK AIRPORT, AR US</td>\n",
              "    </tr>\n",
              "    <tr>\n",
              "      <th>10257</th>\n",
              "      <td>Albany International</td>\n",
              "      <td>Albany, NY</td>\n",
              "      <td>ALBANY INTERNATIONAL AIRPORT, NY US</td>\n",
              "    </tr>\n",
              "    <tr>\n",
              "      <th>10140</th>\n",
              "      <td>Albuquerque International Sunport</td>\n",
              "      <td>Albuquerque, NM</td>\n",
              "      <td>ALBUQUERQUE INTERNATIONAL AIRPORT, NM US</td>\n",
              "    </tr>\n",
              "    <tr>\n",
              "      <th>10299</th>\n",
              "      <td>Anchorage International</td>\n",
              "      <td>Anchorage, AK</td>\n",
              "      <td>ANCHORAGE TED STEVENS INTERNATIONAL AIRPORT, A...</td>\n",
              "    </tr>\n",
              "    <tr>\n",
              "      <th>10397</th>\n",
              "      <td>Atlanta Municipal</td>\n",
              "      <td>Atlanta, GA</td>\n",
              "      <td>ATLANTA HARTSFIELD JACKSON INTERNATIONAL AIRPO...</td>\n",
              "    </tr>\n",
              "  </tbody>\n",
              "</table>\n",
              "</div>"
            ],
            "text/plain": [
              "                                DISPLAY_AIRPORT_NAME ORIGIN_CITY_NAME  \\\n",
              "ORIGIN_AIRPORT_ID                                                       \n",
              "12992                                    Adams Field  Little Rock, AR   \n",
              "10257                           Albany International       Albany, NY   \n",
              "10140              Albuquerque International Sunport  Albuquerque, NM   \n",
              "10299                        Anchorage International    Anchorage, AK   \n",
              "10397                              Atlanta Municipal      Atlanta, GA   \n",
              "\n",
              "                                                                NAME  \n",
              "ORIGIN_AIRPORT_ID                                                     \n",
              "12992                               NORTH LITTLE ROCK AIRPORT, AR US  \n",
              "10257                            ALBANY INTERNATIONAL AIRPORT, NY US  \n",
              "10140                       ALBUQUERQUE INTERNATIONAL AIRPORT, NM US  \n",
              "10299              ANCHORAGE TED STEVENS INTERNATIONAL AIRPORT, A...  \n",
              "10397              ATLANTA HARTSFIELD JACKSON INTERNATIONAL AIRPO...  "
            ]
          },
          "metadata": {},
          "execution_count": 6
        }
      ],
      "metadata": {
        "id": "DDOrhbLqgjHg"
      }
    },
    {
      "cell_type": "code",
      "execution_count": null,
      "source": [
        "# Separate the features from the target\r\n",
        "X = df.drop(columns='DEP_DEL15')\r\n",
        "y = df['DEP_DEL15']"
      ],
      "outputs": [],
      "metadata": {
        "id": "sS9f1TZag0f3"
      }
    },
    {
      "cell_type": "code",
      "execution_count": null,
      "source": [
        "# Split data into training and testing\r\n",
        "X_train, X_test, y_train, y_test = train_test_split(X, y, random_state=1, stratify=y)"
      ],
      "outputs": [],
      "metadata": {
        "id": "KSo4mCSEhUr4"
      }
    },
    {
      "cell_type": "code",
      "execution_count": null,
      "source": [
        "# Encode categorical features\r\n",
        "le = LabelEncoder()\r\n",
        "df['CARRIER_NAME'] = le.fit_transform(df['CARRIER_NAME'])"
      ],
      "outputs": [],
      "metadata": {
        "id": "qfCCgSeUhe1Q"
      }
    },
    {
      "cell_type": "code",
      "execution_count": null,
      "source": [
        "# Instantiate the logistic regression model\r\n",
        "classifier = LogisticRegression(solver='lbfgs', random_state=1)"
      ],
      "outputs": [],
      "metadata": {
        "id": "KYjHmdf_hihn"
      }
    },
    {
      "cell_type": "code",
      "execution_count": null,
      "source": [
        "# Train model\n",
        "classifier.fit(X_train, y_train)"
      ],
      "outputs": [],
      "metadata": {
        "id": "GS2PEfjWiD-_"
      }
    },
    {
      "cell_type": "code",
      "execution_count": null,
      "source": [
        "# Predict data\n",
        "y_pred = classifier.predict(X_test)"
      ],
      "outputs": [],
      "metadata": {
        "id": "saSAde2KiK6s"
      }
    },
    {
      "cell_type": "code",
      "execution_count": null,
      "source": [
        "# Model's accuracy score\n",
        "print(accuracy_score(y_test, y_pred))"
      ],
      "outputs": [],
      "metadata": {
        "id": "YbVCtbo7iPNx"
      }
    },
    {
      "cell_type": "code",
      "execution_count": null,
      "source": [
        "# Model's classification report\n",
        "report = classification_report(y_test, y_pred)\n",
        "print(report)"
      ],
      "outputs": [],
      "metadata": {
        "id": "VvECxVK9iW4E"
      }
    }
  ]
}